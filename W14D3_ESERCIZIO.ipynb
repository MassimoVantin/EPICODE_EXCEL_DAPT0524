{
 "cells": [
  {
   "cell_type": "markdown",
   "metadata": {},
   "source": [
    "Esercizio \n",
    "    L'azienda Object SpA ha creato una lista di quanti oggetti ha venduto ogni mese nell'ultimo anno: \n",
    "        lst = [2000, 5500, 7200, 4320, 1280, 1900, 2500, 3900, 6410, 8150, 7100, 5350] \n",
    "    trasformiamola in un array NumPy (casting): lst = np.array(lst) \n",
    "    e rispondiamo alle domande del CEO della Object SpA: \n",
    "        • qual è stata la vendita massima mensile? E quella minima? \n",
    "        • quali sono le vendite mensili maggiori di 4999 oggetti? E quante ne sono? \n",
    "        • quali sono le vendite minori di 3000 oggetti? 5 \n",
    "        • in media quanti oggetti sono stati venduti al mese?"
   ]
  },
  {
   "cell_type": "code",
   "execution_count": 8,
   "metadata": {},
   "outputs": [
    {
     "name": "stdout",
     "output_type": "stream",
     "text": [
      "Vendita massima del mese: 8150\n",
      "Vendita minima del mese: 1280\n",
      "Vendite maggiori di 4999 pz: [5500 7200 6410 8150 7100 5350]\n",
      "Vendite minori di 3000 pz: [2000 1280 1900 2500]\n",
      "vendita media: 4634.166666666667\n"
     ]
    }
   ],
   "source": [
    "#pip install numpy\n",
    "import numpy as np\n",
    "lst = [2000, 5500, 7200, 4320, 1280, 1900, 2500, 3900, 6410, 8150, 7100, 5350] \n",
    "lst = np.array(lst)\n",
    "print(\"Vendita massima del mese:\",lst.max())\n",
    "print(\"Vendita minima del mese:\", lst.min())\n",
    "filtro= lst>4999\n",
    "print(\"Vendite maggiori di 4999 pz:\", lst[filtro]  )\n",
    "filtro= lst<3000\n",
    "print(\"Vendite minori di 3000 pz:\", lst[filtro])\n",
    "print(\"vendita media:\", lst.mean())"
   ]
  },
  {
   "cell_type": "code",
   "execution_count": null,
   "metadata": {},
   "outputs": [],
   "source": [
    "#Esercizio \n",
    "#   Consideriamo il seguente dizionario: \n",
    "#       fatturati_dict = {1997: 12_000, 1998: 15_000, 1999: 20_000, 2000: 23_000, 2001: 25_000, 2002: 17_000, 2003: 14_000, 2004: 21_000} \n",
    "#   Consideriamo ora la seguente Series: \n",
    "#       fatturati_series = pd.Series([12_000, 15_000, 20_000, 23_000, 25_000, 17_000, 14_000, 21_000], index=range(1997, 2005)) \n",
    "#   Possiamo accedere alle stesse informazioni nello stesso modo: \n",
    "#   fatturati_dict[1997] fatturati_series[1997] \n",
    "#   Dunque qual è la differenza tra i due tipi di dato? Cosa potremmo fare con la Series che non possiamo fare con il dizionario?    "
   ]
  },
  {
   "cell_type": "code",
   "execution_count": null,
   "metadata": {},
   "outputs": [],
   "source": [
    "#Esercizio \n",
    "#   L'azienda Object SpA ha un dataset con tutti gli stipendi dei dipendenti, memorizzato in un ndarray: \n",
    "#       import numpy as np \n",
    "#       stipendi = np.array( [100, 200, 300, 400, 500,  600, 700, 800, 900, 1000] ) \n",
    "#   L'azienda ci chiede di raddoppiare tutti gli stipendi; facciamolo in due modi: \n",
    "#       • con un ciclo for \n",
    "#       • con il masking"
   ]
  },
  {
   "cell_type": "code",
   "execution_count": 24,
   "metadata": {},
   "outputs": [
    {
     "data": {
      "text/plain": [
       "[np.int64(200),\n",
       " np.int64(400),\n",
       " np.int64(600),\n",
       " np.int64(800),\n",
       " np.int64(1000),\n",
       " np.int64(1200),\n",
       " np.int64(1400),\n",
       " np.int64(1600),\n",
       " np.int64(1800),\n",
       " np.int64(2000)]"
      ]
     },
     "execution_count": 24,
     "metadata": {},
     "output_type": "execute_result"
    }
   ],
   "source": [
    "import numpy as np \n",
    "stipendi = np.array( [100, 200, 300, 400, 500,  600, 700, 800, 900, 1000] ) \n",
    "stipendi_new=[]\n",
    "i=0\n",
    "for valore in stipendi:\n",
    "    stipendi_new.append(valore*2)\n",
    "    i+=1\n",
    "stipendi_new\n"
   ]
  },
  {
   "cell_type": "code",
   "execution_count": 25,
   "metadata": {},
   "outputs": [
    {
     "data": {
      "text/plain": [
       "array([ 200,  400,  600,  800, 1000, 1200, 1400, 1600, 1800, 2000])"
      ]
     },
     "execution_count": 25,
     "metadata": {},
     "output_type": "execute_result"
    }
   ],
   "source": [
    "import numpy as np \n",
    "stipendi = np.array( [100, 200, 300, 400, 500,  600, 700, 800, 900, 1000] ) \n",
    "stipendi*2"
   ]
  }
 ],
 "metadata": {
  "kernelspec": {
   "display_name": "Python 3",
   "language": "python",
   "name": "python3"
  },
  "language_info": {
   "codemirror_mode": {
    "name": "ipython",
    "version": 3
   },
   "file_extension": ".py",
   "mimetype": "text/x-python",
   "name": "python",
   "nbconvert_exporter": "python",
   "pygments_lexer": "ipython3",
   "version": "3.12.7"
  }
 },
 "nbformat": 4,
 "nbformat_minor": 2
}
