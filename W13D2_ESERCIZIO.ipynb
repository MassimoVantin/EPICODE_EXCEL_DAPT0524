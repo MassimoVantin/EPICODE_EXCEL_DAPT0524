{
 "cells": [
  {
   "cell_type": "code",
   "execution_count": 1,
   "id": "adf74c4b-3711-4d08-970b-9b3d6970c4a0",
   "metadata": {},
   "outputs": [],
   "source": [
    "# Esercizio 1\n",
    "# \tAbbiamo la stringa: nome_scuola = \"Epicode\" \n",
    "# \tStampare ogni carattere della stringa, uno su ogni riga, utilizzando un costrutto while."
   ]
  },
  {
   "cell_type": "code",
   "execution_count": 61,
   "id": "7a804b4a-5979-46bb-b386-5ddb2a6171e0",
   "metadata": {},
   "outputs": [
    {
     "name": "stdout",
     "output_type": "stream",
     "text": [
      "E\n",
      "p\n",
      "i\n",
      "c\n",
      "o\n",
      "d\n",
      "e\n"
     ]
    }
   ],
   "source": [
    "nome_scuola = \"Epicode\"\n",
    "lunghezza = len(nome_scuola)\n",
    "n=0\n",
    "while n<lunghezza:\n",
    "    print( nome_scuola[n:(n+1)])\n",
    "    n= n+1\n",
    "\n",
    "\n"
   ]
  },
  {
   "cell_type": "code",
   "execution_count": null,
   "id": "692ccd5a-c635-407e-be00-23950d723ed5",
   "metadata": {},
   "outputs": [],
   "source": [
    "# Esercizio 2\n",
    "# \tStampare a video tutti i numeri da 0 a 20 utilizzando il costrutto while. \n",
    "# \tUtilizzeremo: \n",
    "# \t• un ciclo while \n",
    "# \t• la funzione print() \n",
    "# \t• una variabile, che dovrà essere inizializzata \n",
    "# \t• una procedura di incremento"
   ]
  },
  {
   "cell_type": "code",
   "execution_count": 1,
   "id": "0e687b70-8471-4ef1-8f35-e4d4a54ee3a7",
   "metadata": {},
   "outputs": [
    {
     "name": "stdout",
     "output_type": "stream",
     "text": [
      "0\n",
      "1\n",
      "2\n",
      "3\n",
      "4\n",
      "5\n",
      "6\n",
      "7\n",
      "8\n",
      "9\n",
      "10\n",
      "11\n",
      "12\n",
      "13\n",
      "14\n",
      "15\n",
      "16\n",
      "17\n",
      "18\n",
      "19\n",
      "20\n"
     ]
    }
   ],
   "source": [
    "n=0\n",
    "while n<=20:\n",
    "    print(n)\n",
    "    n=n+1"
   ]
  },
  {
   "cell_type": "code",
   "execution_count": null,
   "id": "a74494aa-3760-41fa-9f92-2dfea880779d",
   "metadata": {},
   "outputs": [],
   "source": [
    "# Esercizio 3\n",
    "# \tCalcolare e stampare tutte le prime 10 potenze di 2 (e.g., 2°, 2¹, 2², …) utilizzando un ciclo while."
   ]
  },
  {
   "cell_type": "code",
   "execution_count": 5,
   "id": "d84e1867-72ae-4710-8e1a-4e878dafcd6a",
   "metadata": {},
   "outputs": [
    {
     "name": "stdout",
     "output_type": "stream",
     "text": [
      "1\n",
      "2\n",
      "4\n",
      "8\n",
      "16\n",
      "32\n",
      "64\n",
      "128\n",
      "256\n",
      "512\n"
     ]
    }
   ],
   "source": [
    "esp=0\n",
    "while esp<10:\n",
    "    print(2**esp)\n",
    "    esp=esp+1"
   ]
  },
  {
   "cell_type": "code",
   "execution_count": null,
   "id": "64cd9c44-419a-43df-8cf2-a6fe800c9040",
   "metadata": {},
   "outputs": [],
   "source": [
    "# Esercizio 4\n",
    "# \tCalcolare e stampare tutte le prime N potenze di 2 utilizzando un ciclo while, domandando all'utente di inserire N."
   ]
  },
  {
   "cell_type": "code",
   "execution_count": 83,
   "id": "b504de2f-b8e4-4e2c-911e-cfa2e6fd1ca1",
   "metadata": {},
   "outputs": [
    {
     "name": "stdout",
     "output_type": "stream",
     "text": [
      "inserire nr potenze da calcolare 3\n"
     ]
    },
    {
     "name": "stdout",
     "output_type": "stream",
     "text": [
      "1\n",
      "2\n",
      "4\n"
     ]
    }
   ],
   "source": [
    "nr_calcoli = input(\"inserire nr potenze da calcolare\")\n",
    "num = int(nr_calcoli)\n",
    "esp=0\n",
    "while esp<num:\n",
    "        print(2**esp)\n",
    "        esp=esp+1"
   ]
  },
  {
   "cell_type": "code",
   "execution_count": null,
   "id": "06f197b3-16c6-49f4-9da0-a321e6d87105",
   "metadata": {},
   "outputs": [],
   "source": [
    "# Esercizio 5\n",
    "# \tCalcolare e stampare tutte le potenze di 2 minori di 25000."
   ]
  },
  {
   "cell_type": "code",
   "execution_count": 305,
   "id": "b974483c-9c1d-456d-ba5d-a3bbea2334d7",
   "metadata": {},
   "outputs": [
    {
     "name": "stdout",
     "output_type": "stream",
     "text": [
      "1\n",
      "2\n",
      "4\n",
      "8\n",
      "16\n",
      "32\n",
      "64\n",
      "128\n",
      "256\n",
      "512\n",
      "1024\n",
      "2048\n",
      "4096\n",
      "8192\n",
      "16384\n"
     ]
    }
   ],
   "source": [
    "esp=0\n",
    "risultato=0\n",
    "while risultato<25000:\n",
    "    risultato=2**esp\n",
    "    if risultato < 25000:\n",
    "        print(risultato)\n",
    "    esp=esp+1"
   ]
  },
  {
   "cell_type": "code",
   "execution_count": null,
   "id": "f79b8786-d647-4788-b782-504b0f45df3c",
   "metadata": {},
   "outputs": [],
   "source": [
    "# Esercizio 6\n",
    "# \tAbbiamo due liste, una di studenti e una di corsi: \n",
    "# \tstudenti = [\"Alex\", \"Bob\", \"Cindy\", \"Dan\", \"Emma\", \"Faith\", \"Grace\", \"Henry\"] \n",
    "# \tcorsi = [\"Cybersecurity\", \"Data Analyst\", \"Backend\", \"Frontend\", \"Data Analyst\", \"Backend\"]\n",
    "# \t\n",
    "# \tAggiungere i dati mancanti alla lista corsi, sapendo che \n",
    "# \t\tEmma segue Data Analyst \n",
    "# \t\tFaith segue Backend \n",
    "# \t\tGrace segue Frontend \n",
    "# \t\tHenry segue Cybersecurity \n",
    "# \tAggiungeremo i dati mancanti uno alla volta con il metodo per appendere in coda alle liste, \n",
    "# \tpoi verificheremo che sono della stessa lunghezza e se lo sono stamperemo la lista corsi. \n",
    "# \tSe alcuni dati sono già presenti non vanno aggiunti di nuovo"
   ]
  },
  {
   "cell_type": "code",
   "execution_count": null,
   "id": "c455008e-b088-436e-9d4c-af163fdcee90",
   "metadata": {},
   "outputs": [],
   "source": [
    "studenti = [\"Alex\", \"Bob\", \"Cindy\", \"Dan\", \"Emma\", \"Faith\", \"Grace\", \"Henry\"] \n",
    "corsi = [\"Cybersecurity\", \"Data Analyst\", \"Backend\", \"Frontend\", \"Data Analyst\", \"Backend\"]\n",
    "studenti.append("
   ]
  },
  {
   "cell_type": "code",
   "execution_count": null,
   "id": "3ed94457-fd5e-48e3-a722-c4a643f7cb89",
   "metadata": {},
   "outputs": [],
   "source": [
    "# Esercizio 7\n",
    "# \tScriviamo un programma che chiede in input all'utente una stringa e visualizza i primi 3 caratteri, \n",
    "# \tseguiti da 3 punti di sospensione e quindi gli ultimi 3 caratteri, similmente all'esercizio della lezione scorsa. \n",
    "# \tStavolta facciamo attenzione a tutti i casi particolari, \n",
    "# \tovvero implementare soluzioni ad hoc per stringhe di lunghezza inferiore a 6 caratteri."
   ]
  },
  {
   "cell_type": "code",
   "execution_count": 103,
   "id": "4922322e-31e9-47e9-96e0-eb9c52fe5ce5",
   "metadata": {},
   "outputs": [
    {
     "name": "stdout",
     "output_type": "stream",
     "text": [
      "inserire una stringa massimo\n"
     ]
    },
    {
     "name": "stdout",
     "output_type": "stream",
     "text": [
      "mas ... imo\n"
     ]
    }
   ],
   "source": [
    "stringa = input(\"inserire una stringa\")\n",
    "if len(stringa)<6:\n",
    "    print(\"Stringa troppo corta!!!\")\n",
    "else:\n",
    "    print(stringa[:3], \"...\", stringa[-3:])\n"
   ]
  },
  {
   "cell_type": "code",
   "execution_count": null,
   "id": "09bcce14-12df-4c28-afff-7cf912cd80b5",
   "metadata": {},
   "outputs": [],
   "source": [
    "# Esercizio 8\n",
    "# \tMemorizza e stampa tutti i fattori di un numero dato in input. \n",
    "# \tEsempio: \n",
    "# \t• input: 150 \n",
    "# \t• output: [2, 3, 5, 5]"
   ]
  },
  {
   "cell_type": "code",
   "execution_count": 9,
   "id": "6d93ed79-6bf9-428b-8830-563e4753f351",
   "metadata": {},
   "outputs": [
    {
     "name": "stdout",
     "output_type": "stream",
     "text": [
      "inserisci un numero 10000000\n"
     ]
    },
    {
     "name": "stdout",
     "output_type": "stream",
     "text": [
      "[2, 2, 2, 2, 2, 2, 2, 5, 5, 5, 5, 5, 5, 5]\n"
     ]
    }
   ],
   "source": [
    "numero = int(input(\"inserisci un numero\"))\n",
    "fattori=[]\n",
    "divisore = 2\n",
    "while (numero) > 1:\n",
    "    while (numero % divisore)== 0:\n",
    "        fattori.append(divisore)\n",
    "        numero = numero // divisore\n",
    "    divisore+=1\n",
    "    \n",
    "print(fattori)  \n"
   ]
  },
  {
   "cell_type": "code",
   "execution_count": null,
   "id": "2f05a31e-a8cf-4a99-8142-dd3a70fb0fc1",
   "metadata": {},
   "outputs": [],
   "source": [
    "# Esercizio 9\n",
    "# \tAbbiamo la stringa: nome_scuola = \"Epicode\" \n",
    "# \tStampare ogni carattere della stringa, uno su ogni riga, utilizzando un costrutto for."
   ]
  },
  {
   "cell_type": "code",
   "execution_count": 82,
   "id": "565a4685-e90c-47e7-a7b9-3bcf43e723cb",
   "metadata": {},
   "outputs": [
    {
     "name": "stdout",
     "output_type": "stream",
     "text": [
      "E\n",
      "p\n",
      "i\n",
      "c\n",
      "o\n",
      "d\n",
      "e\n"
     ]
    }
   ],
   "source": [
    "nome_scuola = \"Epicode\"\n",
    "lunghezza = len(nome_scuola)\n",
    "n=0\n",
    "for n in range(lunghezza):\n",
    "    print( nome_scuola[n:(n+1)])\n",
    "    n= n+1\n"
   ]
  },
  {
   "cell_type": "code",
   "execution_count": null,
   "id": "45b568c3-bfbc-4b84-a18b-96069d0ab65a",
   "metadata": {},
   "outputs": [],
   "source": [
    "# Esercizio 10\n",
    "# \tCalcolare e stampare tutte le prime 10 potenze di 2 utilizzando un ciclo. \n",
    "# \tUtilizzeremo: \n",
    "# \t• un ciclo per generare i primi 10 numeri, \n",
    "# \t  e.g.: range_numerico = list()  # init \n",
    "# \t\t    num = 1  # init \n",
    "# \t\t\twhile num <= 10: \n",
    "# \t\t\t\trange_numerico.append(num) \n",
    "# \t\t\t\tnum += 1"
   ]
  },
  {
   "cell_type": "code",
   "execution_count": 88,
   "id": "69bb496b-c517-479b-8cd3-a5371453e4ac",
   "metadata": {},
   "outputs": [
    {
     "name": "stdout",
     "output_type": "stream",
     "text": [
      "2 elevato alla 0 da: 1\n",
      "2 elevato alla 1 da: 2\n",
      "2 elevato alla 2 da: 4\n",
      "2 elevato alla 3 da: 8\n",
      "2 elevato alla 4 da: 16\n",
      "2 elevato alla 5 da: 32\n",
      "2 elevato alla 6 da: 64\n",
      "2 elevato alla 7 da: 128\n",
      "2 elevato alla 8 da: 256\n",
      "2 elevato alla 9 da: 512\n",
      "2 elevato alla 10 da: 1024\n"
     ]
    }
   ],
   "source": [
    "esp=0\n",
    "for esp in range(11):\n",
    "    print(\"2 elevato alla\", esp, \"da:\", 2**esp)\n",
    "    esp+=1"
   ]
  },
  {
   "cell_type": "code",
   "execution_count": null,
   "id": "e1c929fb-0508-404f-8bfa-50661e19f27a",
   "metadata": {},
   "outputs": [],
   "source": [
    "# Esercizio 11\n",
    "# \tCalcolare (ma non stampare) le prime N potenze di K; ognuna di esse andrà memorizzata in coda a una lista. \n",
    "# \tAlla fine, stampare la lista risultante. \n",
    "# \tProviamo con diversi valori di K, oppure facciamola inserire all'utente. \n",
    "# \tRealizzare due versioni: \n",
    "# \t\t• con un ciclo while, \n",
    "# \t\t• con un ciclo for."
   ]
  },
  {
   "cell_type": "code",
   "execution_count": 100,
   "id": "a80865c2-475d-4277-ad44-0c2d77525f33",
   "metadata": {},
   "outputs": [
    {
     "name": "stdout",
     "output_type": "stream",
     "text": [
      "inserire un numero: 1254\n",
      "inserire quante potenze calcolare 4\n"
     ]
    },
    {
     "name": "stdout",
     "output_type": "stream",
     "text": [
      "Risultato: [1, 1254, 1572516, 1971935064]\n"
     ]
    }
   ],
   "source": [
    "numero = int(input(\"inserire un numero:\"))\n",
    "numero_potenze= int(input(\"inserire quante potenze calcolare\"))\n",
    "risultato=[]\n",
    "contatore = 0\n",
    "while contatore < numero_potenze:\n",
    "    risultato.append(numero**contatore)\n",
    "    contatore+=1\n",
    "print(\"Risultato:\", risultato)"
   ]
  },
  {
   "cell_type": "code",
   "execution_count": 102,
   "id": "6b29e1d1-6227-49f3-80f4-1a77aadee00d",
   "metadata": {},
   "outputs": [
    {
     "name": "stdout",
     "output_type": "stream",
     "text": [
      "inserire un numero: 2\n",
      "inserire quante potenze calcolare 10\n"
     ]
    },
    {
     "name": "stdout",
     "output_type": "stream",
     "text": [
      "Risultato: [1, 2, 4, 8, 16, 32, 64, 128, 256, 512]\n"
     ]
    }
   ],
   "source": [
    "numero = int(input(\"inserire un numero:\"))\n",
    "numero_potenze= int(input(\"inserire quante potenze calcolare\"))\n",
    "risultato=[]\n",
    "contatore = 0\n",
    "for contatore in range(numero_potenze):\n",
    "    risultato.append(numero**contatore)\n",
    "    contatore+=1\n",
    "print(\"Risultato:\", risultato)"
   ]
  },
  {
   "cell_type": "code",
   "execution_count": null,
   "id": "94bc920c-ea28-4303-a3df-379cb48a7bd4",
   "metadata": {},
   "outputs": [],
   "source": [
    "# Esercizio 12\n",
    "# \tAbbiamo una lista con i guadagni degli ultimi 12 mesi: \n",
    "# \t\tguadagni = [100, 90, 70, 40, 50, 80, 90, 120, 80, 20, 50, 50] \n",
    "# \tusando un costrutto for, calcolare la media dei guadagni e stamparla a video."
   ]
  },
  {
   "cell_type": "code",
   "execution_count": 106,
   "id": "278dedf1-3e61-489f-8826-4b1bf1877059",
   "metadata": {},
   "outputs": [
    {
     "name": "stdout",
     "output_type": "stream",
     "text": [
      "70.0\n"
     ]
    }
   ],
   "source": [
    "guadagni = [100, 90, 70, 40, 50, 80, 90, 120, 80, 20, 50, 50] \n",
    "i=0\n",
    "somma=0\n",
    "for i in range(len(guadagni)):\n",
    "    somma=somma+guadagni[i]\n",
    "print(somma/len(guadagni))\n"
   ]
  },
  {
   "cell_type": "code",
   "execution_count": null,
   "id": "c7c0ce79-4acf-4a91-849e-98f89994f86e",
   "metadata": {},
   "outputs": [],
   "source": [
    "# Esercizio 13\n",
    "# \tAbbiamo una lista di parole: \n",
    "# \t\tparole = [\"Albergo\", \"Sedia\", \"Borgo\", \"Petalo\", \"Eremo\", \"Belvedere\", \"Semestre\", \"Esteta\", \"Sosta\", \"Orpello\", \"Abete\", \"Orologio\", \"Cesta\", \"Ermellino\"] \n",
    "# \t\tstampiamo, per ogni parola, quante volte appare la lettera \"e\"; \n",
    "# \t\tfacciamo attenzione al fatto che appare sia maiuscola che minuscola."
   ]
  },
  {
   "cell_type": "code",
   "execution_count": 15,
   "id": "1d0b1a3f-f8bd-423d-822d-1cdeb5d796a9",
   "metadata": {},
   "outputs": [
    {
     "name": "stdout",
     "output_type": "stream",
     "text": [
      "Per la parola Albergo la lettera ** e ** è prensente 1 volte\n",
      "Per la parola Sedia la lettera ** e ** è prensente 1 volte\n",
      "Per la parola Borgo la lettera ** e ** è prensente 0 volte\n",
      "Per la parola Petalo la lettera ** e ** è prensente 1 volte\n",
      "Per la parola Eremo la lettera ** e ** è prensente 2 volte\n",
      "Per la parola Belvedere la lettera ** e ** è prensente 4 volte\n",
      "Per la parola Semestre la lettera ** e ** è prensente 3 volte\n",
      "Per la parola Esteta la lettera ** e ** è prensente 2 volte\n",
      "Per la parola Sosta la lettera ** e ** è prensente 0 volte\n",
      "Per la parola Orpello la lettera ** e ** è prensente 1 volte\n",
      "Per la parola Abete la lettera ** e ** è prensente 2 volte\n",
      "Per la parola Orologio la lettera ** e ** è prensente 0 volte\n",
      "Per la parola Cesta la lettera ** e ** è prensente 1 volte\n"
     ]
    }
   ],
   "source": [
    "parole = [\"Albergo\", \"Sedia\", \"Borgo\", \"Petalo\", \"Eremo\", \"Belvedere\", \"Semestre\", \"Esteta\", \"Sosta\", \"Orpello\", \"Abete\", \"Orologio\", \"Cesta\", \"Ermellino\"]\n",
    "len(parole)\n",
    "i=0\n",
    "for i in range(len(parole)-1):\n",
    "    conteggio = parole[i].lower().count('e')\n",
    "    print(\"Per la parola\", parole[i], \"la lettera ** e ** è prensente\", conteggio ,\"volte\")\n",
    "    i+=1\n",
    "    "
   ]
  },
  {
   "cell_type": "code",
   "execution_count": null,
   "id": "83a67448-4ee2-4a85-9677-bdb21704e33c",
   "metadata": {},
   "outputs": [],
   "source": [
    "# Esercizio 14\n",
    "# \tCreiamo un dizionario che assegni ad ogni proprietario la sua auto, sapendo che: \n",
    "# \t\t• Ada guida una Punto \n",
    "# \t\t• Ben guida una Multipla \n",
    "# \t\t• Charlie guida una Golf \n",
    "# \t\t• Debbie guida una 107 \n",
    "# \tStampiamo il dizionario per intero, e poi l'auto associata a Debbie."
   ]
  },
  {
   "cell_type": "code",
   "execution_count": 1,
   "id": "2f0472d7-652c-4026-8d86-adfcc6b306e7",
   "metadata": {},
   "outputs": [
    {
     "name": "stdout",
     "output_type": "stream",
     "text": [
      "{'Ada': 'Punto', 'Ben': 'Multipla', 'Charlie': 'Golf', 'Debbie': '107'}\n",
      "107\n"
     ]
    }
   ],
   "source": [
    "dizionario_auto = {\"Ada\": \"Punto\", \"Ben\": \"Multipla\", \"Charlie\": \"Golf\", \"Debbie\": \"107\"} \n",
    "print(dizionario_auto)\n",
    "print(dizionario_auto[\"Debbie\"])"
   ]
  },
  {
   "cell_type": "code",
   "execution_count": null,
   "id": "cda1b560-5e66-4ae6-aa7f-3a638e82f676",
   "metadata": {},
   "outputs": [],
   "source": [
    "# Esercizio 15\n",
    "# \tAbbiamo un dizionario che assegna ad ogni proprietario la sua auto: \n",
    "# \t\tdizionario_auto = {\"Ada\": \"Punto\", \"Ben\": \"Multipla\", \"Charlie\": \"Golf\", \"Debbie\": \"107\"} \n",
    "# \tCon un ciclo, e usando il metodo .values(), stampiamo a video tutte le auto che non sono una Multipla."
   ]
  },
  {
   "cell_type": "code",
   "execution_count": 12,
   "id": "eb35b0d5-4eda-461c-8bf7-131e8b5607a0",
   "metadata": {},
   "outputs": [
    {
     "name": "stdout",
     "output_type": "stream",
     "text": [
      "Punto\n",
      "Golf\n",
      "107\n"
     ]
    }
   ],
   "source": [
    "# Dizionario dei proprietari e delle loro auto\n",
    "dizionario_auto = {\"Ada\": \"Punto\", \"Ben\": \"Multipla\", \"Charlie\": \"Golf\", \"Debbie\": \"107\"}\n",
    "\n",
    "# Ciclo per stampare le auto che non sono una Multipla\n",
    "for auto in dizionario_auto.values():\n",
    "    if auto != \"Multipla\":\n",
    "        print(auto)\n"
   ]
  },
  {
   "cell_type": "code",
   "execution_count": null,
   "id": "476a750e-225f-4840-ad03-7f10288aa9f5",
   "metadata": {},
   "outputs": [],
   "source": [
    "# Esercizio 16\n",
    "# \tAbbiamo due dizionari che assegnano ad ogni proprietario la propria auto: \n",
    "# \t\tdizionario_auto = {\"Ada\": \"Punto\", \"Ben\": \"Multipla\", \"Charlie\": \"Golf\", \"Debbie\": \"107\", \"Emily\": \"A1\"} \n",
    "# \t\tnuovi_proprietari = {\"Ben\": \"Polo\", \"Fred\": \"Octavia\", \"Grace\": \"Yaris\", \"Hugh\": \"Clio\"} \n",
    "# \tAggiornare il dizionario dizionario_auto con i dati contenuti in nuovi_proprietari e stamparlo. \n",
    "# \tCosa è successo a Ben?"
   ]
  },
  {
   "cell_type": "code",
   "execution_count": 13,
   "id": "575de83b",
   "metadata": {},
   "outputs": [
    {
     "name": "stdout",
     "output_type": "stream",
     "text": [
      "{'Ada': 'Punto', 'Ben': 'Polo', 'Charlie': 'Golf', 'Debbie': '107', 'Emily': 'A1', 'Fred': 'Octavia', 'Grace': 'Yaris', 'Hugh': 'Clio'}\n"
     ]
    }
   ],
   "source": [
    "dizionario_auto = {\"Ada\": \"Punto\", \"Ben\": \"Multipla\", \"Charlie\": \"Golf\", \"Debbie\": \"107\", \"Emily\": \"A1\"} \n",
    "nuovi_proprietari = {\"Ben\": \"Polo\", \"Fred\": \"Octavia\", \"Grace\": \"Yaris\", \"Hugh\": \"Clio\"} \n",
    "dizionario_auto.update(nuovi_proprietari)\n",
    "print(dizionario_auto)"
   ]
  },
  {
   "cell_type": "code",
   "execution_count": null,
   "id": "51218256-8db0-49fe-9457-e37da8ca4476",
   "metadata": {},
   "outputs": [],
   "source": [
    "# Esercizio 17\n",
    "# \tOsservando la sintassi dei dizionari, possiamo notare qualche affinità con il formato JSON?"
   ]
  },
  {
   "cell_type": "code",
   "execution_count": null,
   "id": "04fe6768-4d63-4b30-a3c3-8471e0ee6c51",
   "metadata": {},
   "outputs": [],
   "source": [
    "# Esercizio 18\n",
    "# \tScrivere un programma che, data una lista di numeri, fornisca in output il minimo e il massimo \n",
    "# \t(possiamo usare o meno le funzioni built-in min() e max())."
   ]
  },
  {
   "cell_type": "code",
   "execution_count": 36,
   "id": "221e2580-4b53-49dc-8d9d-508650eeb398",
   "metadata": {},
   "outputs": [
    {
     "name": "stdout",
     "output_type": "stream",
     "text": [
      "88\n",
      "2\n"
     ]
    }
   ],
   "source": [
    "numeri=[5,5,2,7,88,33,45,76,]\n",
    "print(max(numeri))\n",
    "print(min(numeri))"
   ]
  },
  {
   "cell_type": "code",
   "execution_count": null,
   "id": "f3cc7c7d-2db7-4c97-9084-af8828e1f378",
   "metadata": {},
   "outputs": [],
   "source": [
    "# Esercizio 19\n",
    "# \tScrivere un programma che, data una lista di numeri, fornisca in output i tre numeri più grandi; \n",
    "# \tgestire il caso in cui la lista sia più corta di tre, e quando uno o più dei numeri selezionati sono uguali."
   ]
  },
  {
   "cell_type": "code",
   "execution_count": 50,
   "id": "6c25f23b-815b-4571-84f6-a4afc4029d0c",
   "metadata": {},
   "outputs": [
    {
     "name": "stdout",
     "output_type": "stream",
     "text": [
      "[88, 76, 45]\n"
     ]
    }
   ],
   "source": [
    "numeri=[5,5,2,7,88,33,45,76]\n",
    "len(numeri)\n",
    "massimo=[]\n",
    "i=0\n",
    "if len(numeri)<3:\n",
    "    print(\"lista troppo corta\")\n",
    "for i in range (3):\n",
    "    massimo.append(max(numeri))\n",
    "    numeri.remove(max(numeri))\n",
    "    i+=1\n",
    "print(massimo)"
   ]
  },
  {
   "cell_type": "code",
   "execution_count": null,
   "id": "2f26ec2d-efc9-4a38-9140-892f1d358bbf",
   "metadata": {},
   "outputs": [],
   "source": [
    "# Esercizio 20\n",
    "# \tScrivere un programma che \n",
    "# \t\t• in input acquisisce una lista di numeri e un numero K \n",
    "# \t\t• in output, dovrà restituire la media di tutti i numeri nella lista maggiori o uguali a K \n",
    "# \t\t• se non ce ne dovesse essere nessuno, dovrà stampare a schermo un messaggio adeguato."
   ]
  },
  {
   "cell_type": "code",
   "execution_count": 50,
   "id": "41e71117-92f4-400b-ab89-613629097a99",
   "metadata": {},
   "outputs": [
    {
     "name": "stdout",
     "output_type": "stream",
     "text": [
      "inserire una lista di numeri separata da una virgola: 12,25,752,122\n",
      "inserire numero k: 50\n"
     ]
    },
    {
     "data": {
      "text/plain": [
       "[]"
      ]
     },
     "execution_count": 50,
     "metadata": {},
     "output_type": "execute_result"
    }
   ],
   "source": [
    "lista_numeri=[(input(\"inserire una lista di numeri separata da una virgola:\"))]\n",
    "k=int(input(\"inserire numero k:\"))\n",
    "lista_new=[]\n",
    "i = 0\n",
    "lista_numeri2 = [int(lista_numeri[i]) for i in lista_numeri if i.isdigit()]\n",
    "\n",
    "lista_numeri2\n",
    "\n",
    "\"\"\"\n",
    "for i in range(len(lista_numeri)):\n",
    "    if int(lista_numeri[i])>=k:\n",
    "        lista_mew.append(int(lista_numeri[i]))\n",
    "        i+=1\n",
    "    else:\n",
    "        i+=1\n",
    "print(sum(lista_new)/len(lista_new))\n",
    "\"\"\""
   ]
  },
  {
   "cell_type": "code",
   "execution_count": null,
   "id": "23e179c2-468f-403f-ab2b-dea0dfaf62ab",
   "metadata": {},
   "outputs": [],
   "source": [
    "# Esercizio 21\n",
    "# \tScrivere un programma che, data una lista di numeri, come output stamperà lo stesso numero di asterischi su righe diverse, \n",
    "# \tottenendo una semplice visualizzazione grafica \n",
    "# \tEsempio, supponendo di avere il seguente input: \n",
    "# \t\tnumeri = [5, 2, 3, 4] \n",
    "# \tL'output sarà: \n",
    "# \t\t***** \n",
    "# \t\t** \n",
    "# \t\t*** \n",
    "# \t\t****"
   ]
  },
  {
   "cell_type": "code",
   "execution_count": 54,
   "id": "390a67b8-ebd3-4372-9975-1a4a0dd163d9",
   "metadata": {},
   "outputs": [
    {
     "name": "stdout",
     "output_type": "stream",
     "text": [
      "*****\n",
      "**\n",
      "***\n",
      "****\n",
      "**********\n"
     ]
    }
   ],
   "source": [
    "numeri = [5, 2, 3, 4,10] \n",
    "i=0\n",
    "for i in range(len(numeri)):\n",
    "    print(\"*\"*numeri[i])\n",
    "    i+=1"
   ]
  },
  {
   "cell_type": "code",
   "execution_count": null,
   "id": "6627a70e-26e8-4f5a-8f64-32c17a0b0425",
   "metadata": {},
   "outputs": [],
   "source": [
    "# Esercizio 22\n",
    "# \tAbbiamo una lista di codici fiscali: \n",
    "# \t\tlista_cf = [\"ABCDEF95G01A123B\", \"GHIJKL91M02A321C\", \"MNOPQR89S03A456D\", \"STUVWX95Z04A654E\", \"XYZABC01D05A789F\", \"DEFGHI95J06A987G\"] \n",
    "# \t• trovare i codici fiscali che contengono \"95\", metterli in una lista, e alla fine stamparla; \n",
    "# \t• inoltre, per ognuno di essi, stampare a video i caratteri relativi al nome e quelli relativi al cognome."
   ]
  },
  {
   "cell_type": "code",
   "execution_count": 4,
   "id": "edfa3b67-b3bb-415e-9755-de349cb304f1",
   "metadata": {},
   "outputs": [
    {
     "name": "stdout",
     "output_type": "stream",
     "text": [
      "Cognome: ABC, Nome: DEF\n",
      "Cognome: STU, Nome: VWX\n",
      "Cognome: DEF, Nome: GHI\n",
      "\n",
      "Codici fiscali che contengono '95':\n",
      "['ABCDEF95G01A123B', 'STUVWX95Z04A654E', 'DEFGHI95J06A987G']\n"
     ]
    }
   ],
   "source": [
    "# Lista dei codici fiscali\n",
    "lista_cf = [\"ABCDEF95G01A123B\", \"GHIJKL91M02A321C\", \"MNOPQR89S03A456D\", \"STUVWX95Z04A654E\", \"XYZABC01D05A789F\", \"DEFGHI95J06A987G\"]\n",
    "i=0\n",
    "for i in range (len(lista_cf)):\n",
    "    if \"95\" in lista_cf[i]:\n",
    "        print(lista_cf[i])\n",
    "        i+=1\n",
    "\n",
    "# Lista per i codici fiscali che contengono \"95\"\n",
    "cf_con_95 = []\n",
    "\n",
    "# Funzione per estrarre nome e cognome da un codice fiscale\n",
    "def estrai_nome_cognome(cf):\n",
    "    cognome = cf[:3]\n",
    "    nome = cf[3:6]\n",
    "    return cognome, nome\n",
    "\n",
    "# Ciclo per trovare i codici fiscali con \"95\" e stampare nome e cognome\n",
    "for cf in lista_cf:\n",
    "    if \"95\" in cf:\n",
    "        cf_con_95.append(cf)\n",
    "        cognome, nome = estrai_nome_cognome(cf)\n",
    "        print(f\"Cognome: {cognome}, Nome: {nome}\")\n",
    "\n",
    "# Stampa dei codici fiscali che contengono \"95\"\n",
    "print(\"\\nCodici fiscali che contengono '95':\")\n",
    "print(cf_con_95)\n"
   ]
  },
  {
   "cell_type": "code",
   "execution_count": 16,
   "id": "95b67953-150b-418e-8609-e4b915cc001d",
   "metadata": {},
   "outputs": [
    {
     "name": "stdout",
     "output_type": "stream",
     "text": [
      "['ABCDEF95G01A123B', 'STUVWX95Z04A654E', 'DEFGHI95J06A987G']\n",
      "nome: ABC cognome:  DEF\n",
      "nome: STU cognome:  VWX\n",
      "nome: DEF cognome:  GHI\n"
     ]
    }
   ],
   "source": [
    "lista_cf = [\"ABCDEF95G01A123B\", \"GHIJKL91M02A321C\", \"MNOPQR89S03A456D\", \"STUVWX95Z04A654E\", \"XYZABC01D05A789F\", \"DEFGHI95J06A987G\"]\n",
    "i=0\n",
    "lista_cf_95=[]\n",
    "for i in range (len(lista_cf)):\n",
    "    if \"95\" in lista_cf[i]:\n",
    "        lista_cf_95.append(lista_cf[i])\n",
    "        i+=1\n",
    "print(lista_cf_95)\n",
    "i=0\n",
    "for i in range (len(lista_cf_95)):\n",
    "    cf = lista_cf_95[i]\n",
    "    print(\"nome:\", cf[:3], \"cognome: \", cf[3:6])\n",
    "    i+=1"
   ]
  },
  {
   "cell_type": "code",
   "execution_count": null,
   "id": "334f90b6-34ce-4022-abdd-3adc273b2643",
   "metadata": {},
   "outputs": [],
   "source": [
    "# Esercizio 23\n",
    "# \tAbbiamo tre liste della stessa lunghezza, dove ogni elemento nella medesima posizione si riferisce ai dati dello stesso studente: \n",
    "# \t\tstudenti = [\"Alex\", \"Bob\", \"Cindy\", \"Dan\", \"Emma\", \"Faith\", \"Grace\", \"Henry\"] \n",
    "# \t\tcorsi = [\"Cybersecurity\", \"Data Analyst\", \"Backend\", \"Frontend\", \"Data Analyst\", \"Backend\", \"Frontend\", \"Cybersecurity\"] \n",
    "# \t\tedizioni = [1, 2, 3, 2, 2, 1, 3, 3] \n",
    "# \t• Stampare a video tutti e soli gli studenti che frequentano una prima edizione; non tutti i dati potrebbero essere necessari. 25 \n",
    "# \t• Riuscite a vedere una similarità con la logica che si usa in SQL e le tabelle relazionali?"
   ]
  },
  {
   "cell_type": "code",
   "execution_count": 15,
   "id": "a7332d03",
   "metadata": {},
   "outputs": [
    {
     "name": "stdout",
     "output_type": "stream",
     "text": [
      "Alex Cybersecurity 1\n",
      "Faith Backend 1\n"
     ]
    }
   ],
   "source": [
    "studenti = [\"Alex\", \"Bob\", \"Cindy\", \"Dan\", \"Emma\", \"Faith\", \"Grace\", \"Henry\"] \n",
    "corsi = [\"Cybersecurity\", \"Data Analyst\", \"Backend\", \"Frontend\", \"Data Analyst\", \"Backend\", \"Frontend\", \"Cybersecurity\"] \n",
    "edizioni = [1, 2, 3, 2, 2, 1, 3, 3] \n",
    "\n",
    "i=0\n",
    "for i in range(len(edizioni)):\n",
    "    if edizioni[i] == 1:\n",
    "        print(studenti[i],corsi[i], edizioni[i])\n",
    "        i+=1\n",
    "    else:\n",
    "        i+=1"
   ]
  },
  {
   "cell_type": "code",
   "execution_count": null,
   "id": "c8fcbcde-c740-40e7-bf00-c599ecacf64b",
   "metadata": {},
   "outputs": [],
   "source": [
    "# Esercizio 24\n",
    "# \tAbbiamo una lista di stringhe di prezzi in dollari, che erroneamente sono stati scritti con il simbolo dell'euro: \n",
    "# \t\tprezzi = [\"100 €\", \"200 €\", \"500 €\", \"10 €\", \"50 €\", \"70 €\"] \n",
    "# \tcambiare il simbolo dell'euro (€) in quello del dollaro ($) per ogni stringa nella lista; \n",
    "# \til risultato sarà memorizzato in un'altra lista."
   ]
  },
  {
   "cell_type": "code",
   "execution_count": 10,
   "id": "22a6ecbf-595f-4cbd-bacc-fef531d06472",
   "metadata": {},
   "outputs": [
    {
     "name": "stdout",
     "output_type": "stream",
     "text": [
      "['100 $', '200 $', '500 $', '10 $', '50 $', '70 $']\n"
     ]
    }
   ],
   "source": [
    "prezzi = [\"100 €\", \"200 €\", \"500 €\", \"10 €\", \"50 €\", \"70 €\"] \n",
    "prezzi_dollaro=[]\n",
    "i=0\n",
    "for i in range (len(prezzi)):\n",
    "    prezzi_dollaro.append(prezzi[i].replace(\"€\",\"$\"))\n",
    "    i+=1\n",
    "print(prezzi_dollaro)\n"
   ]
  },
  {
   "cell_type": "code",
   "execution_count": null,
   "id": "7571ea5a-b2a5-4568-98f8-cbdca7ebed33",
   "metadata": {},
   "outputs": [],
   "source": [
    "# Esercizio 25\n",
    "# \tAbbiamo una lista di studenti: \n",
    "# \t\tstudenti = [\"Alex\", \"Bob\", \"Cindy\", \"Dan\", \"Emma\", \"Faith\", \"Grace\", \"Henry\", \"Isabelle\", \"John\"] \n",
    "# \tvogliamo dividere gli studenti in due squadre per un campionato di Uno nel seguente modo: \n",
    "# \tselezioneremo i nomi in posizione pari per un squadra, e i nomi in posizione dispari per l'altra. \n",
    "# \tCreiamo due liste per ogni squadra, e alla fine visualizziamole."
   ]
  },
  {
   "cell_type": "code",
   "execution_count": 40,
   "id": "1148af36-660f-4e36-93e7-dd7efadc70f5",
   "metadata": {},
   "outputs": [
    {
     "name": "stdout",
     "output_type": "stream",
     "text": [
      "Squadra dispari: ['Alex', 'Cindy', 'Emma', 'Grace', 'Isabelle']\n",
      "Squadra pari: ['Bob', 'Dan', 'Faith', 'Henry', 'John']\n"
     ]
    }
   ],
   "source": [
    "studenti = [\"Alex\", \"Bob\", \"Cindy\", \"Dan\", \"Emma\", \"Faith\", \"Grace\", \"Henry\", \"Isabelle\", \"John\"]\n",
    "squadra1=[]\n",
    "squadra2=[]\n",
    "i=0\n",
    "for i in range(len(studenti)):\n",
    "    if i%2 == 0:\n",
    "        squadra1.append(studenti[i])\n",
    "    else:\n",
    "        squadra2.append(studenti[i])\n",
    "    i+=1\n",
    "\n",
    "print(\"Squadra dispari:\",squadra1)\n",
    "print(\"Squadra pari:\",squadra2)\n",
    "\n",
    "        "
   ]
  },
  {
   "cell_type": "code",
   "execution_count": null,
   "id": "33aa88d9-4746-48bf-bab8-bcfcffd5c222",
   "metadata": {},
   "outputs": [],
   "source": [
    "# Esercizio 26\n",
    "# \tAbbiamo una lista con i guadagni degli ultimi 12 mesi (supponiamo da Gennaio a Dicembre): \n",
    "# \t\tguadagni = [100, 90, 70, 40, 50, 80, 90, 120, 80, 20, 50, 50] \n",
    "# \tdobbiamo confrontare, stampando tutto a video, il guadagno di ogni mese con la media dei guadagni precedenti, \n",
    "# \te specificare nell'output se il guadagno attuale è maggiore o minore della media dei precedenti. \n",
    "# \tEsempio di un possibile output: \n",
    "# \t\tMese 1: 100 € \n",
    "# \t\tMese 2: 90 € (media prec: 100 € - il guadagno attuale è minore) \n",
    "# \t\tMese 3: 70 € (media prec: 95 € - il guadagno attuale è minore) "
   ]
  },
  {
   "cell_type": "code",
   "execution_count": 100,
   "id": "ef2a66ee-e16d-455c-869f-082cff1cccf6",
   "metadata": {},
   "outputs": [
    {
     "name": "stdout",
     "output_type": "stream",
     "text": [
      "il guadagno del Mese 1 è: 100\n",
      "il guadagno del Mese 2 è: 90 ed è minore della media ( 95 )\n",
      "il guadagno del Mese 3 è: 70 ed è minore della media ( 86 )\n",
      "il guadagno del Mese 4 è: 40 ed è minore della media ( 75 )\n",
      "il guadagno del Mese 5 è: 50 ed è minore della media ( 70 )\n",
      "il guadagno del Mese 6 è: 80 ed è maggiore o uguale della media ( 71 )\n",
      "il guadagno del Mese 7 è: 90 ed è maggiore o uguale della media ( 74 )\n",
      "il guadagno del Mese 8 è: 120 ed è maggiore o uguale della media ( 80 )\n",
      "il guadagno del Mese 9 è: 80 ed è maggiore o uguale della media ( 80 )\n",
      "il guadagno del Mese 10 è: 20 ed è minore della media ( 74 )\n",
      "il guadagno del Mese 11 è: 50 ed è minore della media ( 71 )\n",
      "il guadagno del Mese 12 è: 50 ed è minore della media ( 70 )\n"
     ]
    }
   ],
   "source": [
    "guadagni = [100, 90, 70, 40, 50, 80, 90, 120, 80, 20, 50, 50] \n",
    "somma=0\n",
    "i = 0\n",
    "for i in range(12):\n",
    "    somma = somma + guadagni[i]\n",
    "    media = somma//(i+1)\n",
    "    #if i==0:\n",
    "    #    i+=1\n",
    "    #    print(\"il guadagno del Mese\",i,\"è:\", guadagni[0])\n",
    "    if i==0:\n",
    "        print(\"il guadagno del Mese\",i+1,\"è:\", guadagni[i])\n",
    "        i+=1\n",
    "    else:\n",
    "\n",
    "        if guadagni[i]<media:\n",
    "            print(\"il guadagno del Mese\",i+1,\"è:\", guadagni[i], \"ed è minore della media (\", media,\")\")\n",
    "            i+=1\n",
    "        else:\n",
    "            print(\"il guadagno del Mese\",i+1,\"è:\", guadagni[i], \"ed è maggiore o uguale della media (\", media,\")\")\n",
    "            i+=1        \n"
   ]
  },
  {
   "cell_type": "code",
   "execution_count": null,
   "id": "103a13c9-722c-4739-9b28-5aa3eb1f3494",
   "metadata": {},
   "outputs": [],
   "source": []
  }
 ],
 "metadata": {
  "kernelspec": {
   "display_name": "Python 3",
   "language": "python",
   "name": "python3"
  },
  "language_info": {
   "codemirror_mode": {
    "name": "ipython",
    "version": 3
   },
   "file_extension": ".py",
   "mimetype": "text/x-python",
   "name": "python",
   "nbconvert_exporter": "python",
   "pygments_lexer": "ipython3",
   "version": "3.12.7"
  }
 },
 "nbformat": 4,
 "nbformat_minor": 5
}
